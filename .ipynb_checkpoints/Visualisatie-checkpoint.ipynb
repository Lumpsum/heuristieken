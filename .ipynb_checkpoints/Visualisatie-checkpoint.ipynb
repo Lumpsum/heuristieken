{
 "cells": [
  {
   "cell_type": "markdown",
   "metadata": {},
   "source": [
    "# Python Graphics"
   ]
  },
  {
   "cell_type": "markdown",
   "metadata": {},
   "source": [
    "http://stackoverflow.com/questions/31398156/how-to-draw-grid-on-window-using-graphics-library-in-python\n",
    "\n",
    "http://stackoverflow.com/questions/19249859/importing-custom-images-into-graphics-py"
   ]
  },
  {
   "cell_type": "code",
   "execution_count": 13,
   "metadata": {
    "collapsed": false
   },
   "outputs": [],
   "source": [
    "temp = [[[4, 0, 0, 6, 6, 0], [4, 0, 0, 0, 0, 0], [7, 7, 1, 0, 0, 0], [8, 8, 1, 3, 0, 2], [5, 5, 1, 3, 0, 2], [0, 9, 9, 3, 0, 2]], [[4, 0, 0, 6, 6, 0], [4, 0, 0, 0, 0, 0], [7, 7, 1, 0, 0, 2], [8, 8, 1, 3, 0, 2], [5, 5, 1, 3, 0, 2], [0, 9, 9, 3, 0, 0]], [[4, 0, 0, 6, 6, 0], [4, 0, 0, 0, 0, 0], [7, 7, 1, 0, 0, 2], [8, 8, 1, 3, 0, 2], [5, 5, 1, 3, 0, 2], [9, 9, 0, 3, 0, 0]], [[4, 0, 0, 6, 6, 0], [4, 0, 0, 0, 0, 2], [7, 7, 1, 0, 0, 2], [8, 8, 1, 3, 0, 2], [5, 5, 1, 3, 0, 0], [9, 9, 0, 3, 0, 0]], [[4, 0, 0, 6, 6, 0], [4, 0, 0, 0, 0, 2], [7, 7, 1, 0, 0, 2], [8, 8, 1, 3, 0, 2], [5, 5, 1, 3, 0, 0], [0, 9, 9, 3, 0, 0]], [[4, 0, 0, 6, 6, 0], [4, 0, 1, 0, 0, 2], [7, 7, 1, 0, 0, 2], [8, 8, 1, 3, 0, 2], [5, 5, 0, 3, 0, 0], [0, 9, 9, 3, 0, 0]], [[4, 0, 0, 0, 6, 6], [4, 0, 1, 0, 0, 2], [7, 7, 1, 0, 0, 2], [8, 8, 1, 3, 0, 2], [5, 5, 0, 3, 0, 0], [0, 9, 9, 3, 0, 0]], [[4, 0, 0, 0, 6, 6], [4, 0, 1, 0, 0, 2], [7, 7, 1, 0, 0, 2], [8, 8, 1, 3, 0, 2], [5, 5, 0, 3, 0, 0], [9, 9, 0, 3, 0, 0]], [[4, 0, 0, 0, 6, 6], [4, 0, 0, 0, 0, 2], [7, 7, 1, 0, 0, 2], [8, 8, 1, 3, 0, 2], [5, 5, 1, 3, 0, 0], [9, 9, 0, 3, 0, 0]], [[4, 0, 0, 0, 6, 6], [4, 0, 0, 0, 0, 2], [7, 7, 0, 0, 0, 2], [8, 8, 1, 3, 0, 2], [5, 5, 1, 3, 0, 0], [9, 9, 1, 3, 0, 0]], [[4, 0, 0, 0, 6, 6], [4, 0, 0, 0, 0, 2], [0, 7, 7, 0, 0, 2], [8, 8, 1, 3, 0, 2], [5, 5, 1, 3, 0, 0], [9, 9, 1, 3, 0, 0]], [[4, 0, 0, 0, 6, 6], [4, 0, 0, 0, 0, 2], [0, 0, 7, 7, 0, 2], [8, 8, 1, 3, 0, 2], [5, 5, 1, 3, 0, 0], [9, 9, 1, 3, 0, 0]], [[4, 0, 0, 6, 6, 0], [4, 0, 0, 0, 0, 2], [0, 0, 7, 7, 0, 2], [8, 8, 1, 3, 0, 2], [5, 5, 1, 3, 0, 0], [9, 9, 1, 3, 0, 0]], [[4, 0, 6, 6, 0, 0], [4, 0, 0, 0, 0, 2], [0, 0, 7, 7, 0, 2], [8, 8, 1, 3, 0, 2], [5, 5, 1, 3, 0, 0], [9, 9, 1, 3, 0, 0]], [[0, 0, 6, 6, 0, 0], [4, 0, 0, 0, 0, 2], [4, 0, 7, 7, 0, 2], [8, 8, 1, 3, 0, 2], [5, 5, 1, 3, 0, 0], [9, 9, 1, 3, 0, 0]], [[0, 0, 0, 6, 6, 0], [4, 0, 0, 0, 0, 2], [4, 0, 7, 7, 0, 2], [8, 8, 1, 3, 0, 2], [5, 5, 1, 3, 0, 0], [9, 9, 1, 3, 0, 0]], [[0, 0, 0, 6, 6, 0], [4, 0, 0, 0, 0, 2], [4, 0, 0, 7, 7, 2], [8, 8, 1, 3, 0, 2], [5, 5, 1, 3, 0, 0], [9, 9, 1, 3, 0, 0]], [[0, 0, 0, 0, 6, 6], [4, 0, 0, 0, 0, 2], [4, 0, 0, 7, 7, 2], [8, 8, 1, 3, 0, 2], [5, 5, 1, 3, 0, 0], [9, 9, 1, 3, 0, 0]], [[0, 0, 0, 0, 6, 6], [4, 0, 0, 0, 0, 2], [4, 0, 1, 7, 7, 2], [8, 8, 1, 3, 0, 2], [5, 5, 1, 3, 0, 0], [9, 9, 0, 3, 0, 0]], [[4, 0, 0, 0, 6, 6], [4, 0, 0, 0, 0, 2], [0, 0, 1, 7, 7, 2], [8, 8, 1, 3, 0, 2], [5, 5, 1, 3, 0, 0], [9, 9, 0, 3, 0, 0]], [[4, 0, 0, 0, 6, 6], [4, 0, 0, 0, 0, 2], [0, 0, 1, 7, 7, 2], [8, 8, 1, 3, 0, 2], [5, 5, 1, 3, 0, 0], [0, 9, 9, 3, 0, 0]], [[0, 0, 0, 0, 6, 6], [4, 0, 0, 0, 0, 2], [4, 0, 1, 7, 7, 2], [8, 8, 1, 3, 0, 2], [5, 5, 1, 3, 0, 0], [0, 9, 9, 3, 0, 0]], [[0, 0, 0, 6, 6, 0], [4, 0, 0, 0, 0, 2], [4, 0, 1, 7, 7, 2], [8, 8, 1, 3, 0, 2], [5, 5, 1, 3, 0, 0], [0, 9, 9, 3, 0, 0]], [[0, 0, 0, 6, 6, 0], [4, 0, 0, 0, 0, 0], [4, 0, 1, 7, 7, 2], [8, 8, 1, 3, 0, 2], [5, 5, 1, 3, 0, 2], [0, 9, 9, 3, 0, 0]], [[4, 0, 0, 6, 6, 0], [4, 0, 0, 0, 0, 0], [0, 0, 1, 7, 7, 2], [8, 8, 1, 3, 0, 2], [5, 5, 1, 3, 0, 2], [0, 9, 9, 3, 0, 0]], [[4, 0, 0, 6, 6, 0], [4, 0, 0, 0, 0, 0], [0, 0, 1, 7, 7, 2], [8, 8, 1, 3, 0, 2], [5, 5, 1, 3, 0, 2], [9, 9, 0, 3, 0, 0]], [[4, 0, 0, 6, 6, 0], [4, 0, 0, 0, 0, 0], [0, 0, 1, 7, 7, 0], [8, 8, 1, 3, 0, 2], [5, 5, 1, 3, 0, 2], [9, 9, 0, 3, 0, 2]], [[4, 0, 0, 6, 6, 0], [4, 0, 0, 0, 0, 0], [0, 0, 0, 7, 7, 0], [8, 8, 1, 3, 0, 2], [5, 5, 1, 3, 0, 2], [9, 9, 1, 3, 0, 2]], [[4, 0, 0, 0, 6, 6], [4, 0, 0, 0, 0, 0], [0, 0, 0, 7, 7, 0], [8, 8, 1, 3, 0, 2], [5, 5, 1, 3, 0, 2], [9, 9, 1, 3, 0, 2]], [[4, 0, 0, 0, 6, 6], [4, 0, 0, 0, 0, 0], [0, 0, 1, 7, 7, 0], [8, 8, 1, 3, 0, 2], [5, 5, 1, 3, 0, 2], [9, 9, 0, 3, 0, 2]], [[4, 0, 0, 0, 6, 6], [4, 0, 0, 0, 0, 0], [0, 0, 1, 7, 7, 0], [8, 8, 1, 3, 0, 2], [5, 5, 1, 3, 0, 2], [0, 9, 9, 3, 0, 2]], [[4, 0, 0, 0, 6, 6], [4, 0, 0, 0, 0, 0], [0, 0, 1, 0, 7, 7], [8, 8, 1, 3, 0, 2], [5, 5, 1, 3, 0, 2], [0, 9, 9, 3, 0, 2]]]"
   ]
  },
  {
   "cell_type": "code",
   "execution_count": 15,
   "metadata": {
    "collapsed": false
   },
   "outputs": [],
   "source": [
    "import random\n",
    "from graphics import *\n",
    "import time\n",
    "\n",
    "numberOfCars = max([item for row in temp[0] for item in row])+1\n",
    "colorlist = [\"#%06x\" % random.randint(0, 0xFFFFFF) for x in range(numberOfCars)]\n",
    "colorlist[7] = \"red\"\n",
    "gridSize = len(temp[0])\n"
   ]
  },
  {
   "cell_type": "code",
   "execution_count": 10,
   "metadata": {
    "collapsed": false
   },
   "outputs": [],
   "source": [
    "def draw_state(finalboard, win):\n",
    "    rownumber = len(finalboard) + 1\n",
    "    carlist = []\n",
    "    noncarlist = []\n",
    "    \n",
    "    for row in finalboard:\n",
    "        rownumber = rownumber - 1\n",
    "        templist = [i for i,x in enumerate(row) if x>0]\n",
    "        whitelist = [i for i,x in enumerate(row) if x==0]\n",
    "                      \n",
    "        for element in templist:\n",
    "            carlist.append([element, rownumber-1, element+1, rownumber, row[element]])\n",
    "            \n",
    "        for element in whitelist:\n",
    "            noncarlist.append([element, rownumber-1, element+1, rownumber, row[element]])\n",
    "    \n",
    "    for element in carlist:\n",
    "        square = Rectangle(Point(element[0],element[1]), Point(element[2],element[3]))\n",
    "        square.draw(win)\n",
    "        square.setFill(colorlist[element[4]])\n",
    "        #square.move(50, 50)\n",
    "        \n",
    "    for element in noncarlist:\n",
    "        square = Rectangle(Point(element[0],element[1]), Point(element[2],element[3]))\n",
    "        square.draw(win)\n",
    "        square.setFill(\"white\")\n"
   ]
  },
  {
   "cell_type": "code",
   "execution_count": 16,
   "metadata": {
    "collapsed": false
   },
   "outputs": [],
   "source": [
    "def main(temp):\n",
    "    win = GraphWin('Rush Hour', gridSize*50, gridSize*50)\n",
    "\n",
    "    win.setCoords(0.0, 0.0, gridSize, gridSize)\n",
    "    win.setBackground(\"white\")\n",
    "    \n",
    "    for state in temp:\n",
    "        draw_state(state, win)\n",
    "\n",
    "    win.getMouse()\n",
    "    win.close()"
   ]
  },
  {
   "cell_type": "code",
   "execution_count": 17,
   "metadata": {
    "collapsed": false
   },
   "outputs": [
    {
     "ename": "GraphicsError",
     "evalue": "Can't draw to closed window",
     "output_type": "error",
     "traceback": [
      "\u001b[0;31m---------------------------------------------------------------------------\u001b[0m",
      "\u001b[0;31mGraphicsError\u001b[0m                             Traceback (most recent call last)",
      "\u001b[0;32m<ipython-input-17-4178c8a783a4>\u001b[0m in \u001b[0;36m<module>\u001b[0;34m()\u001b[0m\n\u001b[0;32m----> 1\u001b[0;31m \u001b[0mmain\u001b[0m\u001b[0;34m(\u001b[0m\u001b[0mtemp\u001b[0m\u001b[0;34m)\u001b[0m\u001b[0;34m\u001b[0m\u001b[0m\n\u001b[0m",
      "\u001b[0;32m<ipython-input-16-47d5036c728c>\u001b[0m in \u001b[0;36mmain\u001b[0;34m(temp)\u001b[0m\n\u001b[1;32m      6\u001b[0m \u001b[0;34m\u001b[0m\u001b[0m\n\u001b[1;32m      7\u001b[0m     \u001b[0;32mfor\u001b[0m \u001b[0mstate\u001b[0m \u001b[0;32min\u001b[0m \u001b[0mtemp\u001b[0m\u001b[0;34m:\u001b[0m\u001b[0;34m\u001b[0m\u001b[0m\n\u001b[0;32m----> 8\u001b[0;31m         \u001b[0mdraw_state\u001b[0m\u001b[0;34m(\u001b[0m\u001b[0mstate\u001b[0m\u001b[0;34m,\u001b[0m \u001b[0mwin\u001b[0m\u001b[0;34m)\u001b[0m\u001b[0;34m\u001b[0m\u001b[0m\n\u001b[0m\u001b[1;32m      9\u001b[0m \u001b[0;34m\u001b[0m\u001b[0m\n\u001b[1;32m     10\u001b[0m     \u001b[0mwin\u001b[0m\u001b[0;34m.\u001b[0m\u001b[0mgetMouse\u001b[0m\u001b[0;34m(\u001b[0m\u001b[0;34m)\u001b[0m\u001b[0;34m\u001b[0m\u001b[0m\n",
      "\u001b[0;32m<ipython-input-10-e81440fbcf16>\u001b[0m in \u001b[0;36mdraw_state\u001b[0;34m(finalboard, win)\u001b[0m\n\u001b[1;32m     19\u001b[0m     \u001b[0;32mfor\u001b[0m \u001b[0melement\u001b[0m \u001b[0;32min\u001b[0m \u001b[0mcarlist\u001b[0m\u001b[0;34m:\u001b[0m\u001b[0;34m\u001b[0m\u001b[0m\n\u001b[1;32m     20\u001b[0m         \u001b[0msquare\u001b[0m \u001b[0;34m=\u001b[0m \u001b[0mRectangle\u001b[0m\u001b[0;34m(\u001b[0m\u001b[0mPoint\u001b[0m\u001b[0;34m(\u001b[0m\u001b[0melement\u001b[0m\u001b[0;34m[\u001b[0m\u001b[0;36m0\u001b[0m\u001b[0;34m]\u001b[0m\u001b[0;34m,\u001b[0m\u001b[0melement\u001b[0m\u001b[0;34m[\u001b[0m\u001b[0;36m1\u001b[0m\u001b[0;34m]\u001b[0m\u001b[0;34m)\u001b[0m\u001b[0;34m,\u001b[0m \u001b[0mPoint\u001b[0m\u001b[0;34m(\u001b[0m\u001b[0melement\u001b[0m\u001b[0;34m[\u001b[0m\u001b[0;36m2\u001b[0m\u001b[0;34m]\u001b[0m\u001b[0;34m,\u001b[0m\u001b[0melement\u001b[0m\u001b[0;34m[\u001b[0m\u001b[0;36m3\u001b[0m\u001b[0;34m]\u001b[0m\u001b[0;34m)\u001b[0m\u001b[0;34m)\u001b[0m\u001b[0;34m\u001b[0m\u001b[0m\n\u001b[0;32m---> 21\u001b[0;31m         \u001b[0msquare\u001b[0m\u001b[0;34m.\u001b[0m\u001b[0mdraw\u001b[0m\u001b[0;34m(\u001b[0m\u001b[0mwin\u001b[0m\u001b[0;34m)\u001b[0m\u001b[0;34m\u001b[0m\u001b[0m\n\u001b[0m\u001b[1;32m     22\u001b[0m         \u001b[0msquare\u001b[0m\u001b[0;34m.\u001b[0m\u001b[0msetFill\u001b[0m\u001b[0;34m(\u001b[0m\u001b[0mcolorlist\u001b[0m\u001b[0;34m[\u001b[0m\u001b[0melement\u001b[0m\u001b[0;34m[\u001b[0m\u001b[0;36m4\u001b[0m\u001b[0;34m]\u001b[0m\u001b[0;34m]\u001b[0m\u001b[0;34m)\u001b[0m\u001b[0;34m\u001b[0m\u001b[0m\n\u001b[1;32m     23\u001b[0m         \u001b[0;31m#square.move(50, 50)\u001b[0m\u001b[0;34m\u001b[0m\u001b[0;34m\u001b[0m\u001b[0m\n",
      "\u001b[0;32m/Users/Martijn/Stack/Informatiekunde/Heuristieken/RushHour/graphics.pyc\u001b[0m in \u001b[0;36mdraw\u001b[0;34m(self, graphwin)\u001b[0m\n\u001b[1;32m    480\u001b[0m \u001b[0;34m\u001b[0m\u001b[0m\n\u001b[1;32m    481\u001b[0m         \u001b[0;32mif\u001b[0m \u001b[0mself\u001b[0m\u001b[0;34m.\u001b[0m\u001b[0mcanvas\u001b[0m \u001b[0;32mand\u001b[0m \u001b[0;32mnot\u001b[0m \u001b[0mself\u001b[0m\u001b[0;34m.\u001b[0m\u001b[0mcanvas\u001b[0m\u001b[0;34m.\u001b[0m\u001b[0misClosed\u001b[0m\u001b[0;34m(\u001b[0m\u001b[0;34m)\u001b[0m\u001b[0;34m:\u001b[0m \u001b[0;32mraise\u001b[0m \u001b[0mGraphicsError\u001b[0m\u001b[0;34m(\u001b[0m\u001b[0mOBJ_ALREADY_DRAWN\u001b[0m\u001b[0;34m)\u001b[0m\u001b[0;34m\u001b[0m\u001b[0m\n\u001b[0;32m--> 482\u001b[0;31m         \u001b[0;32mif\u001b[0m \u001b[0mgraphwin\u001b[0m\u001b[0;34m.\u001b[0m\u001b[0misClosed\u001b[0m\u001b[0;34m(\u001b[0m\u001b[0;34m)\u001b[0m\u001b[0;34m:\u001b[0m \u001b[0;32mraise\u001b[0m \u001b[0mGraphicsError\u001b[0m\u001b[0;34m(\u001b[0m\u001b[0;34m\"Can't draw to closed window\"\u001b[0m\u001b[0;34m)\u001b[0m\u001b[0;34m\u001b[0m\u001b[0m\n\u001b[0m\u001b[1;32m    483\u001b[0m         \u001b[0mself\u001b[0m\u001b[0;34m.\u001b[0m\u001b[0mcanvas\u001b[0m \u001b[0;34m=\u001b[0m \u001b[0mgraphwin\u001b[0m\u001b[0;34m\u001b[0m\u001b[0m\n\u001b[1;32m    484\u001b[0m         \u001b[0mself\u001b[0m\u001b[0;34m.\u001b[0m\u001b[0mid\u001b[0m \u001b[0;34m=\u001b[0m \u001b[0mself\u001b[0m\u001b[0;34m.\u001b[0m\u001b[0m_draw\u001b[0m\u001b[0;34m(\u001b[0m\u001b[0mgraphwin\u001b[0m\u001b[0;34m,\u001b[0m \u001b[0mself\u001b[0m\u001b[0;34m.\u001b[0m\u001b[0mconfig\u001b[0m\u001b[0;34m)\u001b[0m\u001b[0;34m\u001b[0m\u001b[0m\n",
      "\u001b[0;31mGraphicsError\u001b[0m: Can't draw to closed window"
     ]
    }
   ],
   "source": [
    "main(temp)"
   ]
  },
  {
   "cell_type": "code",
   "execution_count": 96,
   "metadata": {
    "collapsed": false
   },
   "outputs": [
    {
     "ename": "NameError",
     "evalue": "name 'carlist' is not defined",
     "output_type": "error",
     "traceback": [
      "\u001b[0;31m---------------------------------------------------------------------------\u001b[0m",
      "\u001b[0;31mNameError\u001b[0m                                 Traceback (most recent call last)",
      "\u001b[0;32m<ipython-input-96-6a9cd6f831d3>\u001b[0m in \u001b[0;36m<module>\u001b[0;34m()\u001b[0m\n\u001b[0;32m----> 1\u001b[0;31m \u001b[0;32mfor\u001b[0m \u001b[0melement\u001b[0m \u001b[0;32min\u001b[0m \u001b[0mcarlist\u001b[0m\u001b[0;34m:\u001b[0m\u001b[0;34m\u001b[0m\u001b[0m\n\u001b[0m\u001b[1;32m      2\u001b[0m             \u001b[0;32mtry\u001b[0m\u001b[0;34m:\u001b[0m\u001b[0;34m\u001b[0m\u001b[0m\n\u001b[1;32m      3\u001b[0m                 \u001b[0;32mif\u001b[0m \u001b[0melement\u001b[0m \u001b[0;32min\u001b[0m \u001b[0mnoncarlist\u001b[0m\u001b[0;34m:\u001b[0m\u001b[0;34m\u001b[0m\u001b[0m\n\u001b[1;32m      4\u001b[0m                     \u001b[0;32mprint\u001b[0m \u001b[0melement\u001b[0m\u001b[0;34m\u001b[0m\u001b[0m\n\u001b[1;32m      5\u001b[0m             \u001b[0;32mexcept\u001b[0m \u001b[0mUnboundLocalError\u001b[0m\u001b[0;34m:\u001b[0m\u001b[0;34m\u001b[0m\u001b[0m\n",
      "\u001b[0;31mNameError\u001b[0m: name 'carlist' is not defined"
     ]
    }
   ],
   "source": [
    "for element in carlist:\n",
    "            try:\n",
    "                print noncarlist\n",
    "                if element in noncarlist:\n",
    "                    print \"yes\"\n",
    "            except UnboundLocalError:\n",
    "                noncarlist = []"
   ]
  }
 ],
 "metadata": {
  "kernelspec": {
   "display_name": "Python 2",
   "language": "python",
   "name": "python2"
  },
  "language_info": {
   "codemirror_mode": {
    "name": "ipython",
    "version": 2
   },
   "file_extension": ".py",
   "mimetype": "text/x-python",
   "name": "python",
   "nbconvert_exporter": "python",
   "pygments_lexer": "ipython2",
   "version": "2.7.10"
  }
 },
 "nbformat": 4,
 "nbformat_minor": 0
}
