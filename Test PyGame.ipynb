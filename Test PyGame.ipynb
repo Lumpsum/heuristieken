{
 "cells": [
  {
   "cell_type": "markdown",
   "metadata": {},
   "source": [
    "# Python Graphics"
   ]
  },
  {
   "cell_type": "markdown",
   "metadata": {},
   "source": [
    "http://stackoverflow.com/questions/31398156/how-to-draw-grid-on-window-using-graphics-library-in-python\n",
    "\n",
    "http://stackoverflow.com/questions/19249859/importing-custom-images-into-graphics-py"
   ]
  },
  {
   "cell_type": "code",
   "execution_count": 2,
   "metadata": {
    "collapsed": false
   },
   "outputs": [],
   "source": [
    "finalboard = [[0, 0, 6, 6, 0, 0], [4, 0, 1, 0, 0, 0], [4, 0, 1, 0, 7, 7], [8, 8, 1, 3, 0, 2], [0, 5, 5, 3, 0, 2], [0, 9, 9, 3, 0, 2]]"
   ]
  },
  {
   "cell_type": "code",
   "execution_count": 3,
   "metadata": {
    "collapsed": true
   },
   "outputs": [],
   "source": [
    "import random"
   ]
  },
  {
   "cell_type": "code",
   "execution_count": 4,
   "metadata": {
    "collapsed": false
   },
   "outputs": [],
   "source": [
    "carlist = []\n",
    "noncarlist = []\n",
    "colorlist = []\n",
    "rownumber = len(finalboard) + 1\n",
    "\n",
    "for row in finalboard:\n",
    "    rownumber = rownumber - 1\n",
    "    templist = [i for i,x in enumerate(row) if x>0]\n",
    "    whitelist = [i for i,x in enumerate(row) if x==0]\n",
    "        \n",
    "    for element in templist:\n",
    "        carlist.append([element, rownumber-1, element+1, rownumber, row[element]])\n",
    "    for element in whitelist:\n",
    "        noncarlist.append([element, rownumber-1, element+1, rownumber, row[element]])\n",
    "        \n",
    "colorlist = [\"#%06x\" % random.randint(0, 0xFFFFFF) for x in range(10)]\n",
    "colorlist[7] = \"red\""
   ]
  },
  {
   "cell_type": "code",
   "execution_count": null,
   "metadata": {
    "collapsed": false
   },
   "outputs": [],
   "source": [
    "from graphics import *\n",
    "\n",
    "gridSize = len(finalboard)\n",
    "\n",
    "def main():\n",
    "    win = GraphWin('Rush Hour', gridSize*50, gridSize*50)\n",
    "\n",
    "    win.setCoords(0.0, 0.0, gridSize, gridSize)\n",
    "    win.setBackground(\"white\")\n",
    "\n",
    "    # draw grid\n",
    "    for x in range(gridSize):\n",
    "        for y in range(gridSize):\n",
    "            win.plotPixel(x*50, y*50, \"blue\")\n",
    "    \n",
    "    for element in carlist:\n",
    "        square = Rectangle(Point(element[0],element[1]), Point(element[2],element[3]))\n",
    "        square.draw(win)\n",
    "        square.setFill(colorlist[element[4]])\n",
    "        \n",
    "    for element in noncarlist:\n",
    "        square = Rectangle(Point(element[0],element[1]), Point(element[2],element[3]))\n",
    "        square.draw(win)\n",
    "        square.setFill(\"white\")\n",
    "\n",
    "    win.getMouse()\n",
    "    win.close()\n",
    "\n",
    "main()"
   ]
  },
  {
   "cell_type": "code",
   "execution_count": null,
   "metadata": {
    "collapsed": true
   },
   "outputs": [],
   "source": []
  }
 ],
 "metadata": {
  "kernelspec": {
   "display_name": "Python 2",
   "language": "python",
   "name": "python2"
  },
  "language_info": {
   "codemirror_mode": {
    "name": "ipython",
    "version": 2
   },
   "file_extension": ".py",
   "mimetype": "text/x-python",
   "name": "python",
   "nbconvert_exporter": "python",
   "pygments_lexer": "ipython2",
   "version": "2.7.10"
  }
 },
 "nbformat": 4,
 "nbformat_minor": 0
}
