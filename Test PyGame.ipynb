{
 "cells": [
  {
   "cell_type": "markdown",
   "metadata": {},
   "source": [
    "# Python Graphics"
   ]
  },
  {
   "cell_type": "markdown",
   "metadata": {},
   "source": [
    "http://stackoverflow.com/questions/31398156/how-to-draw-grid-on-window-using-graphics-library-in-python\n",
    "\n",
    "http://stackoverflow.com/questions/19249859/importing-custom-images-into-graphics-py"
   ]
  },
  {
   "cell_type": "code",
   "execution_count": 1,
   "metadata": {
    "collapsed": false
   },
   "outputs": [],
   "source": [
    "temp = [[[4, 0, 0, 6, 6, 0], [4, 0, 0, 0, 0, 0], [7, 7, 1, 0, 0, 0], [8, 8, 1, 3, 0, 2], [5, 5, 1, 3, 0, 2], [0, 9, 9, 3, 0, 2]], [[4, 0, 0, 6, 6, 0], [4, 0, 0, 0, 0, 0], [7, 7, 1, 0, 0, 2], [8, 8, 1, 3, 0, 2], [5, 5, 1, 3, 0, 2], [0, 9, 9, 3, 0, 0]], [[4, 0, 0, 6, 6, 0], [4, 0, 0, 0, 0, 0], [7, 7, 1, 0, 0, 2], [8, 8, 1, 3, 0, 2], [5, 5, 1, 3, 0, 2], [9, 9, 0, 3, 0, 0]], [[4, 0, 0, 6, 6, 0], [4, 0, 0, 0, 0, 2], [7, 7, 1, 0, 0, 2], [8, 8, 1, 3, 0, 2], [5, 5, 1, 3, 0, 0], [9, 9, 0, 3, 0, 0]], [[4, 0, 0, 6, 6, 0], [4, 0, 0, 0, 0, 2], [7, 7, 1, 0, 0, 2], [8, 8, 1, 3, 0, 2], [5, 5, 1, 3, 0, 0], [0, 9, 9, 3, 0, 0]], [[4, 0, 0, 6, 6, 0], [4, 0, 1, 0, 0, 2], [7, 7, 1, 0, 0, 2], [8, 8, 1, 3, 0, 2], [5, 5, 0, 3, 0, 0], [0, 9, 9, 3, 0, 0]], [[4, 0, 0, 0, 6, 6], [4, 0, 1, 0, 0, 2], [7, 7, 1, 0, 0, 2], [8, 8, 1, 3, 0, 2], [5, 5, 0, 3, 0, 0], [0, 9, 9, 3, 0, 0]], [[4, 0, 0, 0, 6, 6], [4, 0, 1, 0, 0, 2], [7, 7, 1, 0, 0, 2], [8, 8, 1, 3, 0, 2], [5, 5, 0, 3, 0, 0], [9, 9, 0, 3, 0, 0]], [[4, 0, 0, 0, 6, 6], [4, 0, 0, 0, 0, 2], [7, 7, 1, 0, 0, 2], [8, 8, 1, 3, 0, 2], [5, 5, 1, 3, 0, 0], [9, 9, 0, 3, 0, 0]], [[4, 0, 0, 0, 6, 6], [4, 0, 0, 0, 0, 2], [7, 7, 0, 0, 0, 2], [8, 8, 1, 3, 0, 2], [5, 5, 1, 3, 0, 0], [9, 9, 1, 3, 0, 0]], [[4, 0, 0, 0, 6, 6], [4, 0, 0, 0, 0, 2], [0, 7, 7, 0, 0, 2], [8, 8, 1, 3, 0, 2], [5, 5, 1, 3, 0, 0], [9, 9, 1, 3, 0, 0]], [[4, 0, 0, 0, 6, 6], [4, 0, 0, 0, 0, 2], [0, 0, 7, 7, 0, 2], [8, 8, 1, 3, 0, 2], [5, 5, 1, 3, 0, 0], [9, 9, 1, 3, 0, 0]], [[4, 0, 0, 6, 6, 0], [4, 0, 0, 0, 0, 2], [0, 0, 7, 7, 0, 2], [8, 8, 1, 3, 0, 2], [5, 5, 1, 3, 0, 0], [9, 9, 1, 3, 0, 0]], [[4, 0, 6, 6, 0, 0], [4, 0, 0, 0, 0, 2], [0, 0, 7, 7, 0, 2], [8, 8, 1, 3, 0, 2], [5, 5, 1, 3, 0, 0], [9, 9, 1, 3, 0, 0]], [[0, 0, 6, 6, 0, 0], [4, 0, 0, 0, 0, 2], [4, 0, 7, 7, 0, 2], [8, 8, 1, 3, 0, 2], [5, 5, 1, 3, 0, 0], [9, 9, 1, 3, 0, 0]], [[0, 0, 0, 6, 6, 0], [4, 0, 0, 0, 0, 2], [4, 0, 7, 7, 0, 2], [8, 8, 1, 3, 0, 2], [5, 5, 1, 3, 0, 0], [9, 9, 1, 3, 0, 0]], [[0, 0, 0, 6, 6, 0], [4, 0, 0, 0, 0, 2], [4, 0, 0, 7, 7, 2], [8, 8, 1, 3, 0, 2], [5, 5, 1, 3, 0, 0], [9, 9, 1, 3, 0, 0]], [[0, 0, 0, 0, 6, 6], [4, 0, 0, 0, 0, 2], [4, 0, 0, 7, 7, 2], [8, 8, 1, 3, 0, 2], [5, 5, 1, 3, 0, 0], [9, 9, 1, 3, 0, 0]], [[0, 0, 0, 0, 6, 6], [4, 0, 0, 0, 0, 2], [4, 0, 1, 7, 7, 2], [8, 8, 1, 3, 0, 2], [5, 5, 1, 3, 0, 0], [9, 9, 0, 3, 0, 0]], [[4, 0, 0, 0, 6, 6], [4, 0, 0, 0, 0, 2], [0, 0, 1, 7, 7, 2], [8, 8, 1, 3, 0, 2], [5, 5, 1, 3, 0, 0], [9, 9, 0, 3, 0, 0]], [[4, 0, 0, 0, 6, 6], [4, 0, 0, 0, 0, 2], [0, 0, 1, 7, 7, 2], [8, 8, 1, 3, 0, 2], [5, 5, 1, 3, 0, 0], [0, 9, 9, 3, 0, 0]], [[0, 0, 0, 0, 6, 6], [4, 0, 0, 0, 0, 2], [4, 0, 1, 7, 7, 2], [8, 8, 1, 3, 0, 2], [5, 5, 1, 3, 0, 0], [0, 9, 9, 3, 0, 0]], [[0, 0, 0, 6, 6, 0], [4, 0, 0, 0, 0, 2], [4, 0, 1, 7, 7, 2], [8, 8, 1, 3, 0, 2], [5, 5, 1, 3, 0, 0], [0, 9, 9, 3, 0, 0]], [[0, 0, 0, 6, 6, 0], [4, 0, 0, 0, 0, 0], [4, 0, 1, 7, 7, 2], [8, 8, 1, 3, 0, 2], [5, 5, 1, 3, 0, 2], [0, 9, 9, 3, 0, 0]], [[4, 0, 0, 6, 6, 0], [4, 0, 0, 0, 0, 0], [0, 0, 1, 7, 7, 2], [8, 8, 1, 3, 0, 2], [5, 5, 1, 3, 0, 2], [0, 9, 9, 3, 0, 0]], [[4, 0, 0, 6, 6, 0], [4, 0, 0, 0, 0, 0], [0, 0, 1, 7, 7, 2], [8, 8, 1, 3, 0, 2], [5, 5, 1, 3, 0, 2], [9, 9, 0, 3, 0, 0]], [[4, 0, 0, 6, 6, 0], [4, 0, 0, 0, 0, 0], [0, 0, 1, 7, 7, 0], [8, 8, 1, 3, 0, 2], [5, 5, 1, 3, 0, 2], [9, 9, 0, 3, 0, 2]], [[4, 0, 0, 6, 6, 0], [4, 0, 0, 0, 0, 0], [0, 0, 0, 7, 7, 0], [8, 8, 1, 3, 0, 2], [5, 5, 1, 3, 0, 2], [9, 9, 1, 3, 0, 2]], [[4, 0, 0, 0, 6, 6], [4, 0, 0, 0, 0, 0], [0, 0, 0, 7, 7, 0], [8, 8, 1, 3, 0, 2], [5, 5, 1, 3, 0, 2], [9, 9, 1, 3, 0, 2]], [[4, 0, 0, 0, 6, 6], [4, 0, 0, 0, 0, 0], [0, 0, 1, 7, 7, 0], [8, 8, 1, 3, 0, 2], [5, 5, 1, 3, 0, 2], [9, 9, 0, 3, 0, 2]], [[4, 0, 0, 0, 6, 6], [4, 0, 0, 0, 0, 0], [0, 0, 1, 7, 7, 0], [8, 8, 1, 3, 0, 2], [5, 5, 1, 3, 0, 2], [0, 9, 9, 3, 0, 2]], [[4, 0, 0, 0, 6, 6], [4, 0, 0, 0, 0, 0], [0, 0, 1, 0, 7, 7], [8, 8, 1, 3, 0, 2], [5, 5, 1, 3, 0, 2], [0, 9, 9, 3, 0, 2]]]"
   ]
  },
  {
   "cell_type": "code",
   "execution_count": 8,
   "metadata": {
    "collapsed": false
   },
   "outputs": [],
   "source": [
    "import random\n",
    "from graphics import *\n",
    "import time\n",
    "\n",
    "colorlist = [\"#%06x\" % random.randint(0, 0xFFFFFF) for x in range(10)]\n",
    "colorlist[7] = \"red\"\n",
    "gridSize = len(temp[0])"
   ]
  },
  {
   "cell_type": "code",
   "execution_count": 9,
   "metadata": {
    "collapsed": false
   },
   "outputs": [],
   "source": [
    "def draw_state(finalboard, win):\n",
    "    carlist = []\n",
    "    noncarlist = []\n",
    "    rownumber = len(finalboard) + 1\n",
    "\n",
    "    for row in finalboard:\n",
    "        rownumber = rownumber - 1\n",
    "        templist = [i for i,x in enumerate(row) if x>0]\n",
    "        whitelist = [i for i,x in enumerate(row) if x==0]\n",
    "\n",
    "        for element in templist:\n",
    "            carlist.append([element, rownumber-1, element+1, rownumber, row[element]])\n",
    "        for element in whitelist:\n",
    "            noncarlist.append([element, rownumber-1, element+1, rownumber, row[element]])\n",
    "    \n",
    "    for element in carlist:\n",
    "        square = Rectangle(Point(element[0],element[1]), Point(element[2],element[3]))\n",
    "        square.draw(win)\n",
    "        square.setFill(colorlist[element[4]])\n",
    "        \n",
    "    for element in noncarlist:\n",
    "        square = Rectangle(Point(element[0],element[1]), Point(element[2],element[3]))\n",
    "        square.draw(win)\n",
    "        square.setFill(\"white\")\n",
    "        \n"
   ]
  },
  {
   "cell_type": "code",
   "execution_count": 10,
   "metadata": {
    "collapsed": false
   },
   "outputs": [
    {
     "ename": "GraphicsError",
     "evalue": "getMouse in closed window",
     "output_type": "error",
     "traceback": [
      "\u001b[0;31m---------------------------------------------------------------------------\u001b[0m",
      "\u001b[0;31mGraphicsError\u001b[0m                             Traceback (most recent call last)",
      "\u001b[0;32m<ipython-input-10-3705b6fa92d6>\u001b[0m in \u001b[0;36m<module>\u001b[0;34m()\u001b[0m\n\u001b[1;32m     16\u001b[0m     \u001b[0mwin\u001b[0m\u001b[0;34m.\u001b[0m\u001b[0mclose\u001b[0m\u001b[0;34m(\u001b[0m\u001b[0;34m)\u001b[0m\u001b[0;34m\u001b[0m\u001b[0m\n\u001b[1;32m     17\u001b[0m \u001b[0;34m\u001b[0m\u001b[0m\n\u001b[0;32m---> 18\u001b[0;31m \u001b[0mmain\u001b[0m\u001b[0;34m(\u001b[0m\u001b[0mtemp\u001b[0m\u001b[0;34m)\u001b[0m\u001b[0;34m\u001b[0m\u001b[0m\n\u001b[0m",
      "\u001b[0;32m<ipython-input-10-3705b6fa92d6>\u001b[0m in \u001b[0;36mmain\u001b[0;34m(temp)\u001b[0m\n\u001b[1;32m     13\u001b[0m         \u001b[0mdraw_state\u001b[0m\u001b[0;34m(\u001b[0m\u001b[0my\u001b[0m\u001b[0;34m,\u001b[0m \u001b[0mwin\u001b[0m\u001b[0;34m)\u001b[0m\u001b[0;34m\u001b[0m\u001b[0m\n\u001b[1;32m     14\u001b[0m \u001b[0;34m\u001b[0m\u001b[0m\n\u001b[0;32m---> 15\u001b[0;31m     \u001b[0mwin\u001b[0m\u001b[0;34m.\u001b[0m\u001b[0mgetMouse\u001b[0m\u001b[0;34m(\u001b[0m\u001b[0;34m)\u001b[0m\u001b[0;34m\u001b[0m\u001b[0m\n\u001b[0m\u001b[1;32m     16\u001b[0m     \u001b[0mwin\u001b[0m\u001b[0;34m.\u001b[0m\u001b[0mclose\u001b[0m\u001b[0;34m(\u001b[0m\u001b[0;34m)\u001b[0m\u001b[0;34m\u001b[0m\u001b[0m\n\u001b[1;32m     17\u001b[0m \u001b[0;34m\u001b[0m\u001b[0m\n",
      "\u001b[0;32mgraphics.pyc\u001b[0m in \u001b[0;36mgetMouse\u001b[0;34m(self)\u001b[0m\n",
      "\u001b[0;31mGraphicsError\u001b[0m: getMouse in closed window"
     ]
    }
   ],
   "source": [
    "def main(temp):\n",
    "    win = GraphWin('Rush Hour', gridSize*50, gridSize*50)\n",
    "\n",
    "    win.setCoords(0.0, 0.0, gridSize, gridSize)\n",
    "    win.setBackground(\"white\")\n",
    "\n",
    "    # draw grid\n",
    "    for x in range(gridSize):\n",
    "        for y in range(gridSize):\n",
    "            win.plotPixel(x*50, y*50, \"blue\")\n",
    "    \n",
    "    for y in temp:\n",
    "        draw_state(y, win)\n",
    "\n",
    "    win.getMouse()\n",
    "    win.close()\n",
    "\n",
    "main(temp)"
   ]
  },
  {
   "cell_type": "code",
   "execution_count": null,
   "metadata": {
    "collapsed": true
   },
   "outputs": [],
   "source": []
  },
  {
   "cell_type": "code",
   "execution_count": null,
   "metadata": {
    "collapsed": true
   },
   "outputs": [],
   "source": []
  },
  {
   "cell_type": "code",
   "execution_count": null,
   "metadata": {
    "collapsed": true
   },
   "outputs": [],
   "source": []
  }
 ],
 "metadata": {
  "kernelspec": {
   "display_name": "Python 2",
   "language": "python",
   "name": "python2"
  },
  "language_info": {
   "codemirror_mode": {
    "name": "ipython",
    "version": 2
   },
   "file_extension": ".py",
   "mimetype": "text/x-python",
   "name": "python",
   "nbconvert_exporter": "python",
   "pygments_lexer": "ipython2",
   "version": "2.7.10"
  }
 },
 "nbformat": 4,
 "nbformat_minor": 0
}
