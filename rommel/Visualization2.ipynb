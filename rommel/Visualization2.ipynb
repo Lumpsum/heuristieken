{
 "cells": [
  {
   "cell_type": "code",
   "execution_count": 68,
   "metadata": {
    "collapsed": true
   },
   "outputs": [],
   "source": [
    "temp = [[[4, 0, 0, 6, 6, 0], [4, 0, 0, 0, 0, 0], [7, 7, 1, 0, 0, 0], [8, 8, 1, 3, 0, 2], [5, 5, 1, 3, 0, 2], [0, 9, 9, 3, 0, 2]], [[4, 0, 0, 6, 6, 0], [4, 0, 0, 0, 0, 0], [7, 7, 1, 0, 0, 2], [8, 8, 1, 3, 0, 2], [5, 5, 1, 3, 0, 2], [0, 9, 9, 3, 0, 0]], [[4, 0, 0, 6, 6, 0], [4, 0, 0, 0, 0, 0], [7, 7, 1, 0, 0, 2], [8, 8, 1, 3, 0, 2], [5, 5, 1, 3, 0, 2], [9, 9, 0, 3, 0, 0]], [[4, 0, 0, 6, 6, 0], [4, 0, 0, 0, 0, 2], [7, 7, 1, 0, 0, 2], [8, 8, 1, 3, 0, 2], [5, 5, 1, 3, 0, 0], [9, 9, 0, 3, 0, 0]], [[4, 0, 0, 6, 6, 0], [4, 0, 0, 0, 0, 2], [7, 7, 1, 0, 0, 2], [8, 8, 1, 3, 0, 2], [5, 5, 1, 3, 0, 0], [0, 9, 9, 3, 0, 0]], [[4, 0, 0, 6, 6, 0], [4, 0, 1, 0, 0, 2], [7, 7, 1, 0, 0, 2], [8, 8, 1, 3, 0, 2], [5, 5, 0, 3, 0, 0], [0, 9, 9, 3, 0, 0]], [[4, 0, 0, 0, 6, 6], [4, 0, 1, 0, 0, 2], [7, 7, 1, 0, 0, 2], [8, 8, 1, 3, 0, 2], [5, 5, 0, 3, 0, 0], [0, 9, 9, 3, 0, 0]], [[4, 0, 0, 0, 6, 6], [4, 0, 1, 0, 0, 2], [7, 7, 1, 0, 0, 2], [8, 8, 1, 3, 0, 2], [5, 5, 0, 3, 0, 0], [9, 9, 0, 3, 0, 0]], [[4, 0, 0, 0, 6, 6], [4, 0, 0, 0, 0, 2], [7, 7, 1, 0, 0, 2], [8, 8, 1, 3, 0, 2], [5, 5, 1, 3, 0, 0], [9, 9, 0, 3, 0, 0]], [[4, 0, 0, 0, 6, 6], [4, 0, 0, 0, 0, 2], [7, 7, 0, 0, 0, 2], [8, 8, 1, 3, 0, 2], [5, 5, 1, 3, 0, 0], [9, 9, 1, 3, 0, 0]], [[4, 0, 0, 0, 6, 6], [4, 0, 0, 0, 0, 2], [0, 7, 7, 0, 0, 2], [8, 8, 1, 3, 0, 2], [5, 5, 1, 3, 0, 0], [9, 9, 1, 3, 0, 0]], [[4, 0, 0, 0, 6, 6], [4, 0, 0, 0, 0, 2], [0, 0, 7, 7, 0, 2], [8, 8, 1, 3, 0, 2], [5, 5, 1, 3, 0, 0], [9, 9, 1, 3, 0, 0]], [[4, 0, 0, 6, 6, 0], [4, 0, 0, 0, 0, 2], [0, 0, 7, 7, 0, 2], [8, 8, 1, 3, 0, 2], [5, 5, 1, 3, 0, 0], [9, 9, 1, 3, 0, 0]], [[4, 0, 6, 6, 0, 0], [4, 0, 0, 0, 0, 2], [0, 0, 7, 7, 0, 2], [8, 8, 1, 3, 0, 2], [5, 5, 1, 3, 0, 0], [9, 9, 1, 3, 0, 0]], [[0, 0, 6, 6, 0, 0], [4, 0, 0, 0, 0, 2], [4, 0, 7, 7, 0, 2], [8, 8, 1, 3, 0, 2], [5, 5, 1, 3, 0, 0], [9, 9, 1, 3, 0, 0]], [[0, 0, 0, 6, 6, 0], [4, 0, 0, 0, 0, 2], [4, 0, 7, 7, 0, 2], [8, 8, 1, 3, 0, 2], [5, 5, 1, 3, 0, 0], [9, 9, 1, 3, 0, 0]], [[0, 0, 0, 6, 6, 0], [4, 0, 0, 0, 0, 2], [4, 0, 0, 7, 7, 2], [8, 8, 1, 3, 0, 2], [5, 5, 1, 3, 0, 0], [9, 9, 1, 3, 0, 0]], [[0, 0, 0, 0, 6, 6], [4, 0, 0, 0, 0, 2], [4, 0, 0, 7, 7, 2], [8, 8, 1, 3, 0, 2], [5, 5, 1, 3, 0, 0], [9, 9, 1, 3, 0, 0]], [[0, 0, 0, 0, 6, 6], [4, 0, 0, 0, 0, 2], [4, 0, 1, 7, 7, 2], [8, 8, 1, 3, 0, 2], [5, 5, 1, 3, 0, 0], [9, 9, 0, 3, 0, 0]], [[4, 0, 0, 0, 6, 6], [4, 0, 0, 0, 0, 2], [0, 0, 1, 7, 7, 2], [8, 8, 1, 3, 0, 2], [5, 5, 1, 3, 0, 0], [9, 9, 0, 3, 0, 0]], [[4, 0, 0, 0, 6, 6], [4, 0, 0, 0, 0, 2], [0, 0, 1, 7, 7, 2], [8, 8, 1, 3, 0, 2], [5, 5, 1, 3, 0, 0], [0, 9, 9, 3, 0, 0]], [[0, 0, 0, 0, 6, 6], [4, 0, 0, 0, 0, 2], [4, 0, 1, 7, 7, 2], [8, 8, 1, 3, 0, 2], [5, 5, 1, 3, 0, 0], [0, 9, 9, 3, 0, 0]], [[0, 0, 0, 6, 6, 0], [4, 0, 0, 0, 0, 2], [4, 0, 1, 7, 7, 2], [8, 8, 1, 3, 0, 2], [5, 5, 1, 3, 0, 0], [0, 9, 9, 3, 0, 0]], [[0, 0, 0, 6, 6, 0], [4, 0, 0, 0, 0, 0], [4, 0, 1, 7, 7, 2], [8, 8, 1, 3, 0, 2], [5, 5, 1, 3, 0, 2], [0, 9, 9, 3, 0, 0]], [[4, 0, 0, 6, 6, 0], [4, 0, 0, 0, 0, 0], [0, 0, 1, 7, 7, 2], [8, 8, 1, 3, 0, 2], [5, 5, 1, 3, 0, 2], [0, 9, 9, 3, 0, 0]], [[4, 0, 0, 6, 6, 0], [4, 0, 0, 0, 0, 0], [0, 0, 1, 7, 7, 2], [8, 8, 1, 3, 0, 2], [5, 5, 1, 3, 0, 2], [9, 9, 0, 3, 0, 0]], [[4, 0, 0, 6, 6, 0], [4, 0, 0, 0, 0, 0], [0, 0, 1, 7, 7, 0], [8, 8, 1, 3, 0, 2], [5, 5, 1, 3, 0, 2], [9, 9, 0, 3, 0, 2]], [[4, 0, 0, 6, 6, 0], [4, 0, 0, 0, 0, 0], [0, 0, 0, 7, 7, 0], [8, 8, 1, 3, 0, 2], [5, 5, 1, 3, 0, 2], [9, 9, 1, 3, 0, 2]], [[4, 0, 0, 0, 6, 6], [4, 0, 0, 0, 0, 0], [0, 0, 0, 7, 7, 0], [8, 8, 1, 3, 0, 2], [5, 5, 1, 3, 0, 2], [9, 9, 1, 3, 0, 2]], [[4, 0, 0, 0, 6, 6], [4, 0, 0, 0, 0, 0], [0, 0, 1, 7, 7, 0], [8, 8, 1, 3, 0, 2], [5, 5, 1, 3, 0, 2], [9, 9, 0, 3, 0, 2]], [[4, 0, 0, 0, 6, 6], [4, 0, 0, 0, 0, 0], [0, 0, 1, 7, 7, 0], [8, 8, 1, 3, 0, 2], [5, 5, 1, 3, 0, 2], [0, 9, 9, 3, 0, 2]], [[4, 0, 0, 0, 6, 6], [4, 0, 0, 0, 0, 0], [0, 0, 1, 0, 7, 7], [8, 8, 1, 3, 0, 2], [5, 5, 1, 3, 0, 2], [0, 9, 9, 3, 0, 2]]]"
   ]
  },
  {
   "cell_type": "code",
   "execution_count": 113,
   "metadata": {
    "collapsed": false
   },
   "outputs": [],
   "source": [
    "import pygame\n",
    "import sys\n",
    "import random\n",
    "\n",
    "def draw_solution(grids):\n",
    "    pygame.init()\n",
    "    \n",
    "    grid_width, grid_height = len(grids[0]), len(grids[0])\n",
    "    margin = 5\n",
    "    screen_width, screen_heigth = 600, 600\n",
    "    block_size = (screen_width / (grid_width)) - margin\n",
    "    textfont = pygame.font.SysFont(\"monospace\", 40)\n",
    "    \n",
    "    window = pygame.display.set_mode((screen_width + 100, screen_heigth + margin))\n",
    "    i = 0\n",
    "    delay = int(0.5 * 1000)\n",
    "\n",
    "    grids = grids[::-1]\n",
    "    \n",
    "    # Set colors for each car in grid.\n",
    "    cars = {}\n",
    "    cars[0], cars[1] = (255, 255, 255), (255, 0, 0)\n",
    "    for x in grids[0]:\n",
    "        for y in x:\n",
    "            if y not in cars and y != 0 and y != 1:\n",
    "                cars[y] = (random.randint(0, 255), random.randint(0, 255), random.randint(0, 255))\n",
    "    \n",
    "    # Draw grid function.\n",
    "    def draw_grid(grid):\n",
    "        for y in range(grid_height):\n",
    "            for x in range(grid_width):\n",
    "                rect = pygame.Rect(margin + x*(block_size + margin), margin + y*(block_size + margin), block_size, block_size)\n",
    "                pygame.draw.rect(window, cars[grid[y][x]], rect)\n",
    "        return True\n",
    "        \n",
    "    draw_grid(grids[i])\n",
    "    pygame.display.update()\n",
    "    \n",
    "    # Set exit options.\n",
    "    while True:\n",
    "        for event in pygame.event.get():\n",
    "            if event.type == pygame.QUIT:\n",
    "                pygame.quit()\n",
    "                sys.exit()\n",
    "\n",
    "        if i < len(grids) - 1:\n",
    "            i = i + 1\n",
    "            window.fill(pygame.Color(\"black\"))\n",
    "            window.blit(textfont.render(\"Move:\", 1, (255,255,255)), (screen_width + margin, margin))\n",
    "            window.blit(textfont.render(str(i), 1, (255,255,255)), (screen_width + margin, margin+30))\n",
    "        draw_grid(grids[i])\n",
    "\n",
    "        pygame.time.delay(delay)\n",
    "        pygame.display.update()"
   ]
  },
  {
   "cell_type": "code",
   "execution_count": 114,
   "metadata": {
    "collapsed": false
   },
   "outputs": [
    {
     "ename": "KeyboardInterrupt",
     "evalue": "",
     "output_type": "error",
     "traceback": [
      "\u001b[0;31m---------------------------------------------------------------------------\u001b[0m",
      "\u001b[0;31mKeyboardInterrupt\u001b[0m                         Traceback (most recent call last)",
      "\u001b[0;32m<ipython-input-114-2036f501fb76>\u001b[0m in \u001b[0;36m<module>\u001b[0;34m()\u001b[0m\n\u001b[0;32m----> 1\u001b[0;31m \u001b[0mdraw_solution\u001b[0m\u001b[0;34m(\u001b[0m\u001b[0mtemp\u001b[0m\u001b[0;34m)\u001b[0m\u001b[0;34m\u001b[0m\u001b[0m\n\u001b[0m",
      "\u001b[0;32m<ipython-input-113-24075f36dd56>\u001b[0m in \u001b[0;36mdraw_solution\u001b[0;34m(grids)\u001b[0m\n\u001b[1;32m     51\u001b[0m         \u001b[0mdraw_grid\u001b[0m\u001b[0;34m(\u001b[0m\u001b[0mgrids\u001b[0m\u001b[0;34m[\u001b[0m\u001b[0mi\u001b[0m\u001b[0;34m]\u001b[0m\u001b[0;34m)\u001b[0m\u001b[0;34m\u001b[0m\u001b[0m\n\u001b[1;32m     52\u001b[0m \u001b[0;34m\u001b[0m\u001b[0m\n\u001b[0;32m---> 53\u001b[0;31m         \u001b[0mpygame\u001b[0m\u001b[0;34m.\u001b[0m\u001b[0mtime\u001b[0m\u001b[0;34m.\u001b[0m\u001b[0mdelay\u001b[0m\u001b[0;34m(\u001b[0m\u001b[0mdelay\u001b[0m\u001b[0;34m)\u001b[0m\u001b[0;34m\u001b[0m\u001b[0m\n\u001b[0m\u001b[1;32m     54\u001b[0m         \u001b[0mpygame\u001b[0m\u001b[0;34m.\u001b[0m\u001b[0mdisplay\u001b[0m\u001b[0;34m.\u001b[0m\u001b[0mupdate\u001b[0m\u001b[0;34m(\u001b[0m\u001b[0;34m)\u001b[0m\u001b[0;34m\u001b[0m\u001b[0m\n",
      "\u001b[0;31mKeyboardInterrupt\u001b[0m: "
     ]
    }
   ],
   "source": [
    "draw_solution(temp)"
   ]
  },
  {
   "cell_type": "code",
   "execution_count": null,
   "metadata": {
    "collapsed": true
   },
   "outputs": [],
   "source": []
  }
 ],
 "metadata": {
  "anaconda-cloud": {},
  "kernelspec": {
   "display_name": "Python [conda env:python2]",
   "language": "python",
   "name": "conda-env-python2-py"
  },
  "language_info": {
   "codemirror_mode": {
    "name": "ipython",
    "version": 2
   },
   "file_extension": ".py",
   "mimetype": "text/x-python",
   "name": "python",
   "nbconvert_exporter": "python",
   "pygments_lexer": "ipython2",
   "version": "2.7.12"
  }
 },
 "nbformat": 4,
 "nbformat_minor": 1
}
